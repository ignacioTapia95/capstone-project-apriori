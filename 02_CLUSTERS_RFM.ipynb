{
 "cells": [
  {
   "cell_type": "code",
   "execution_count": 2,
   "id": "11fcfd88-7b12-433b-b816-3c579b7adcef",
   "metadata": {},
   "outputs": [],
   "source": [
    "import pandas as pd\n",
    "import numpy as np\n",
    "from datetime import date\n",
    "from dateutil.relativedelta import relativedelta"
   ]
  },
  {
   "cell_type": "code",
   "execution_count": 3,
   "id": "eafe7eee-318c-49b2-86d8-aba39c9fce4b",
   "metadata": {},
   "outputs": [],
   "source": [
    "df = pd.read_csv('../data/data_rfm.csv', header=0)[['usuario_id_crp', 'year_month','freq_all_1', 'mon_all_1']]"
   ]
  },
  {
   "cell_type": "code",
   "execution_count": 4,
   "id": "c8715924-300c-4355-ae7a-cb1b8231a4b9",
   "metadata": {},
   "outputs": [
    {
     "data": {
      "text/html": [
       "<div>\n",
       "<style scoped>\n",
       "    .dataframe tbody tr th:only-of-type {\n",
       "        vertical-align: middle;\n",
       "    }\n",
       "\n",
       "    .dataframe tbody tr th {\n",
       "        vertical-align: top;\n",
       "    }\n",
       "\n",
       "    .dataframe thead th {\n",
       "        text-align: right;\n",
       "    }\n",
       "</style>\n",
       "<table border=\"1\" class=\"dataframe\">\n",
       "  <thead>\n",
       "    <tr style=\"text-align: right;\">\n",
       "      <th></th>\n",
       "      <th>usuario_id_crp</th>\n",
       "      <th>year_month</th>\n",
       "      <th>freq_all_1</th>\n",
       "      <th>mon_all_1</th>\n",
       "    </tr>\n",
       "  </thead>\n",
       "  <tbody>\n",
       "    <tr>\n",
       "      <th>0</th>\n",
       "      <td>11</td>\n",
       "      <td>2020-05-01</td>\n",
       "      <td>4</td>\n",
       "      <td>36772.0</td>\n",
       "    </tr>\n",
       "    <tr>\n",
       "      <th>1</th>\n",
       "      <td>11</td>\n",
       "      <td>2020-06-01</td>\n",
       "      <td>1</td>\n",
       "      <td>1090.0</td>\n",
       "    </tr>\n",
       "    <tr>\n",
       "      <th>2</th>\n",
       "      <td>11</td>\n",
       "      <td>2020-07-01</td>\n",
       "      <td>2</td>\n",
       "      <td>14080.0</td>\n",
       "    </tr>\n",
       "    <tr>\n",
       "      <th>3</th>\n",
       "      <td>11</td>\n",
       "      <td>2020-08-01</td>\n",
       "      <td>6</td>\n",
       "      <td>60800.0</td>\n",
       "    </tr>\n",
       "    <tr>\n",
       "      <th>4</th>\n",
       "      <td>11</td>\n",
       "      <td>2020-09-01</td>\n",
       "      <td>6</td>\n",
       "      <td>59314.0</td>\n",
       "    </tr>\n",
       "  </tbody>\n",
       "</table>\n",
       "</div>"
      ],
      "text/plain": [
       "   usuario_id_crp  year_month  freq_all_1  mon_all_1\n",
       "0              11  2020-05-01           4    36772.0\n",
       "1              11  2020-06-01           1     1090.0\n",
       "2              11  2020-07-01           2    14080.0\n",
       "3              11  2020-08-01           6    60800.0\n",
       "4              11  2020-09-01           6    59314.0"
      ]
     },
     "execution_count": 4,
     "metadata": {},
     "output_type": "execute_result"
    }
   ],
   "source": [
    "df.head()"
   ]
  },
  {
   "cell_type": "code",
   "execution_count": 5,
   "id": "e6502868-898e-45ff-a3b9-f2b8f42d99a4",
   "metadata": {},
   "outputs": [
    {
     "name": "stdout",
     "output_type": "stream",
     "text": [
      "2020-03-01 2021-04-01 2021-05-01\n",
      "2020-03-01 2021-05-01 2021-06-01\n",
      "2020-03-01 2021-06-01 2021-07-01\n",
      "2020-03-01 2021-07-01 2021-08-01\n",
      "2020-03-01 2021-08-01 2021-09-01\n",
      "2020-03-01 2021-09-01 2021-10-01\n",
      "2020-03-01 2021-10-01 2021-11-01\n",
      "2020-03-01 2021-11-01 2021-12-01\n",
      "2020-03-01 2021-12-01 2022-01-01\n",
      "2020-03-01 2022-01-01 2022-02-01\n",
      "2020-03-01 2022-02-01 2022-03-01\n",
      "2020-03-01 2022-03-01 2022-04-01\n",
      "2020-03-01 2022-04-01 2022-05-01\n",
      "2020-03-01 2022-05-01 2022-06-01\n"
     ]
    }
   ],
   "source": [
    "start_date = date(2020,3,1)\n",
    "max_date =  date(2022,5,1)\n",
    "minimum_windows_size = 12\n",
    "\n",
    "rolling = False\n",
    "\n",
    "start_train = start_date\n",
    "end_train = start_train + relativedelta(months=minimum_windows_size) #- relativedelta(days=1)\n",
    "test = start_train + relativedelta(months=minimum_windows_size+1)\n",
    "\n",
    "while test <= max_date:\n",
    "    \n",
    "    # Set dates\n",
    "    if rolling == True:\n",
    "        start_train += relativedelta(months=1)\n",
    "    \n",
    "    end_train += relativedelta(months=1)\n",
    "    test += relativedelta(months=1)\n",
    "    \n",
    "    print(start_train, end_train, test)\n",
    "\n",
    "    # Filtrate DataFrame\n",
    "    df_train = df[(df['year_month'] >= start_train.strftime('%Y-%m-%d')) & (df['year_month'] <= end_train.strftime('%Y-%m-%d'))]\n",
    "    df_test = df[df['year_month'] == test.strftime('%Y-%m-%d')]\n",
    "    \n",
    "    # Grouping Data\n",
    "    df_train = df_train.groupby('usuario_id_crp').sum()\n",
    "    df_test = df_test.groupby('usuario_id_crp').sum()\n",
    "    \n",
    "    #     \n",
    "    df_train['avg_tk'] = df_train['mon_all_1'] / df_train['freq_all_1']\n",
    "    df_test['avg_tkv'] = df_test['mon_all_1'] / df_test['freq_all_1']\n",
    "    \n",
    "    df_train['freq_rank'] = df_train['freq_all_1'].rank(ascending=True)\n",
    "    df_train['mon_rank'] = df_train['mon_all_1'].rank(ascending=True)\n",
    "    df_train['avg_rank'] = df_train['avg_tk'].rank(ascending=True)\n",
    "\n",
    "    df_train['freq_rank_norm'] = (df_train['freq_rank'] / df_train['freq_rank'].max())*100\n",
    "    df_train['mon_rank_norm'] = (df_train['mon_rank'] / df_train['mon_rank'].max())*100\n",
    "    df_train['avg_rank_norm'] = (df_train['avg_rank'] / df_train['avg_rank'].max())*100\n",
    "    \n",
    "    # Drop year_month\n",
    "    df_train.drop(columns=['freq_all_1','mon_all_1','avg_tk','freq_rank','mon_rank','avg_rank'], axis=1,inplace=True)\n",
    "    #df_test.drop(columns='year_month', inplace=True)\n",
    "    \n",
    "    \n",
    "    \n",
    "    #df_train = df_train[df_train['freq_all_1'] != 1]"
   ]
  },
  {
   "cell_type": "code",
   "execution_count": 6,
   "id": "9dfb8444-c166-403f-9411-a25173951118",
   "metadata": {},
   "outputs": [
    {
     "data": {
      "text/html": [
       "<div>\n",
       "<style scoped>\n",
       "    .dataframe tbody tr th:only-of-type {\n",
       "        vertical-align: middle;\n",
       "    }\n",
       "\n",
       "    .dataframe tbody tr th {\n",
       "        vertical-align: top;\n",
       "    }\n",
       "\n",
       "    .dataframe thead th {\n",
       "        text-align: right;\n",
       "    }\n",
       "</style>\n",
       "<table border=\"1\" class=\"dataframe\">\n",
       "  <thead>\n",
       "    <tr style=\"text-align: right;\">\n",
       "      <th></th>\n",
       "      <th>freq_rank_norm</th>\n",
       "      <th>mon_rank_norm</th>\n",
       "      <th>avg_rank_norm</th>\n",
       "    </tr>\n",
       "    <tr>\n",
       "      <th>usuario_id_crp</th>\n",
       "      <th></th>\n",
       "      <th></th>\n",
       "      <th></th>\n",
       "    </tr>\n",
       "  </thead>\n",
       "  <tbody>\n",
       "    <tr>\n",
       "      <th>11</th>\n",
       "      <td>98.888262</td>\n",
       "      <td>97.860598</td>\n",
       "      <td>49.745309</td>\n",
       "    </tr>\n",
       "    <tr>\n",
       "      <th>22</th>\n",
       "      <td>99.993076</td>\n",
       "      <td>99.994065</td>\n",
       "      <td>73.900873</td>\n",
       "    </tr>\n",
       "    <tr>\n",
       "      <th>31</th>\n",
       "      <td>96.511973</td>\n",
       "      <td>96.133646</td>\n",
       "      <td>64.398683</td>\n",
       "    </tr>\n",
       "    <tr>\n",
       "      <th>158</th>\n",
       "      <td>97.176642</td>\n",
       "      <td>96.869529</td>\n",
       "      <td>65.701315</td>\n",
       "    </tr>\n",
       "    <tr>\n",
       "      <th>183</th>\n",
       "      <td>99.947578</td>\n",
       "      <td>99.768553</td>\n",
       "      <td>42.226245</td>\n",
       "    </tr>\n",
       "    <tr>\n",
       "      <th>...</th>\n",
       "      <td>...</td>\n",
       "      <td>...</td>\n",
       "      <td>...</td>\n",
       "    </tr>\n",
       "    <tr>\n",
       "      <th>3195562</th>\n",
       "      <td>28.927925</td>\n",
       "      <td>36.575571</td>\n",
       "      <td>52.964304</td>\n",
       "    </tr>\n",
       "    <tr>\n",
       "      <th>3195577</th>\n",
       "      <td>28.927925</td>\n",
       "      <td>47.464467</td>\n",
       "      <td>69.490520</td>\n",
       "    </tr>\n",
       "    <tr>\n",
       "      <th>3195602</th>\n",
       "      <td>28.927925</td>\n",
       "      <td>47.464467</td>\n",
       "      <td>69.490520</td>\n",
       "    </tr>\n",
       "    <tr>\n",
       "      <th>3195691</th>\n",
       "      <td>28.927925</td>\n",
       "      <td>49.201310</td>\n",
       "      <td>71.801035</td>\n",
       "    </tr>\n",
       "    <tr>\n",
       "      <th>3195765</th>\n",
       "      <td>28.927925</td>\n",
       "      <td>45.447217</td>\n",
       "      <td>66.689910</td>\n",
       "    </tr>\n",
       "  </tbody>\n",
       "</table>\n",
       "<p>101103 rows × 3 columns</p>\n",
       "</div>"
      ],
      "text/plain": [
       "                freq_rank_norm  mon_rank_norm  avg_rank_norm\n",
       "usuario_id_crp                                              \n",
       "11                   98.888262      97.860598      49.745309\n",
       "22                   99.993076      99.994065      73.900873\n",
       "31                   96.511973      96.133646      64.398683\n",
       "158                  97.176642      96.869529      65.701315\n",
       "183                  99.947578      99.768553      42.226245\n",
       "...                        ...            ...            ...\n",
       "3195562              28.927925      36.575571      52.964304\n",
       "3195577              28.927925      47.464467      69.490520\n",
       "3195602              28.927925      47.464467      69.490520\n",
       "3195691              28.927925      49.201310      71.801035\n",
       "3195765              28.927925      45.447217      66.689910\n",
       "\n",
       "[101103 rows x 3 columns]"
      ]
     },
     "execution_count": 6,
     "metadata": {},
     "output_type": "execute_result"
    }
   ],
   "source": [
    "df_train"
   ]
  },
  {
   "cell_type": "code",
   "execution_count": 1,
   "id": "375e9ef3-ebe6-4a25-8011-b38705d70978",
   "metadata": {},
   "outputs": [
    {
     "ename": "NameError",
     "evalue": "name 'df_train' is not defined",
     "output_type": "error",
     "traceback": [
      "\u001b[0;31m---------------------------------------------------------------------------\u001b[0m",
      "\u001b[0;31mNameError\u001b[0m                                 Traceback (most recent call last)",
      "\u001b[0;32m/tmp/ipykernel_3656/2926945340.py\u001b[0m in \u001b[0;36m<module>\u001b[0;34m\u001b[0m\n\u001b[1;32m      5\u001b[0m \u001b[0;31m# Escalar Valores\u001b[0m\u001b[0;34m\u001b[0m\u001b[0;34m\u001b[0m\u001b[0;34m\u001b[0m\u001b[0m\n\u001b[1;32m      6\u001b[0m \u001b[0mscaler\u001b[0m \u001b[0;34m=\u001b[0m \u001b[0mMinMaxScaler\u001b[0m\u001b[0;34m(\u001b[0m\u001b[0;34m)\u001b[0m\u001b[0;34m\u001b[0m\u001b[0;34m\u001b[0m\u001b[0m\n\u001b[0;32m----> 7\u001b[0;31m \u001b[0mscaler\u001b[0m\u001b[0;34m.\u001b[0m\u001b[0mfit\u001b[0m\u001b[0;34m(\u001b[0m\u001b[0mdf_train\u001b[0m\u001b[0;34m)\u001b[0m\u001b[0;34m\u001b[0m\u001b[0;34m\u001b[0m\u001b[0m\n\u001b[0m\u001b[1;32m      8\u001b[0m \u001b[0mdf_scaled\u001b[0m \u001b[0;34m=\u001b[0m \u001b[0mscaler\u001b[0m\u001b[0;34m.\u001b[0m\u001b[0mtransform\u001b[0m\u001b[0;34m(\u001b[0m\u001b[0mdf_train\u001b[0m\u001b[0;34m)\u001b[0m\u001b[0;34m\u001b[0m\u001b[0;34m\u001b[0m\u001b[0m\n",
      "\u001b[0;31mNameError\u001b[0m: name 'df_train' is not defined"
     ]
    }
   ],
   "source": [
    "from sklearn.preprocessing import StandardScaler\n",
    "from sklearn.preprocessing import MinMaxScaler\n",
    "from sklearn.preprocessing import RobustScaler\n",
    "\n",
    "# Escalar Valores\n",
    "scaler = MinMaxScaler()\n",
    "scaler.fit(df_train)\n",
    "df_scaled = scaler.transform(df_train)"
   ]
  },
  {
   "cell_type": "code",
   "execution_count": 7,
   "id": "734c14e6-35f6-4360-9e21-cf44780cc9ce",
   "metadata": {
    "tags": []
   },
   "outputs": [
    {
     "name": "stdout",
     "output_type": "stream",
     "text": [
      "For n_clusters = 2 The average silhouette_score is : 0.5334101678102574\n",
      "For n_clusters = 3 The average silhouette_score is : 0.5551581638805622\n",
      "For n_clusters = 4 The average silhouette_score is : 0.5373253448396494\n",
      "For n_clusters = 5 The average silhouette_score is : 0.5019781930778472\n",
      "For n_clusters = 6 The average silhouette_score is : 0.5025735712439753\n",
      "For n_clusters = 7 The average silhouette_score is : 0.5126373820518123\n",
      "For n_clusters = 8 The average silhouette_score is : 0.5088941964776695\n",
      "For n_clusters = 9 The average silhouette_score is : 0.5092009826771603\n",
      "For n_clusters = 10 The average silhouette_score is : 0.5051148126122313\n"
     ]
    }
   ],
   "source": [
    "from sklearn.metrics import silhouette_samples, silhouette_score\n",
    "from sklearn.cluster import KMeans\n",
    "\n",
    "# Calcular numero de clusters\n",
    "range_n_clusters = list(range(2,11))\n",
    "for n_clusters in range_n_clusters:\n",
    "    clusterer = KMeans(n_clusters=n_clusters, random_state=20220720)\n",
    "    \n",
    "    cluster_labels = clusterer.fit_predict(df_scaled)\n",
    "    \n",
    "    silhouette_avg = silhouette_score(df_scaled, cluster_labels)\n",
    "    print(\n",
    "        \"For n_clusters =\",\n",
    "        n_clusters,\n",
    "        \"The average silhouette_score is :\",\n",
    "        silhouette_avg,\n",
    "    )"
   ]
  },
  {
   "cell_type": "code",
   "execution_count": 9,
   "id": "c17b5f01-425e-4a89-bdb5-3a7b4f168ba4",
   "metadata": {},
   "outputs": [
    {
     "name": "stdout",
     "output_type": "stream",
     "text": [
      "[0.61407322 0.60156084 0.63266102 ... 0.72375449 0.73703328 0.69515859]\n",
      "Para n_clusters = 3 el coeficiente promedio de silhouette_score es: 0.5551581638805622\n"
     ]
    },
    {
     "data": {
      "image/png": "[encoded data removed]",
      "text/plain": [
       "<Figure size 640x480 with 1 Axes>"
      ]
     },
     "metadata": {},
     "output_type": "display_data"
    },
    {
     "data": {
      "text/plain": [
       "<ggplot: (139042626570)>"
      ]
     },
     "execution_count": 9,
     "metadata": {},
     "output_type": "execute_result"
    }
   ],
   "source": [
    "from sklearn.metrics import silhouette_samples, silhouette_score\n",
    "from sklearn.cluster import KMeans\n",
    "from plotnine import *\n",
    "\n",
    "km = KMeans(n_clusters=3, random_state=20220720)\n",
    "km = km.fit(df_scaled)\n",
    "\n",
    "#Calculando el coeficiente de Silhouette para cada muestra\n",
    "sample_silhouette_values = silhouette_samples(df_scaled, km.labels_)\n",
    "print(sample_silhouette_values)\n",
    "\n",
    "#Calculando el coeficiente de silhouette promedio\n",
    "silhouette_avg = silhouette_score(df_scaled, km.labels_)\n",
    "print(\"Para n_clusters =\", 3,\"el coeficiente promedio de silhouette_score es:\", silhouette_avg)\n",
    "\n",
    "#Visualizando los coeficientes de Silhouette\n",
    "tempDF = pd.DataFrame(columns=['SC','labels'])\n",
    "for i in range(km.n_clusters):\n",
    "    #Ordenando los valores de cada cluster\n",
    "    tempData=np.sort(sample_silhouette_values[km.labels_==i])[::-1]#para mostrarlos de menor a mayor\n",
    "    tempDF2=pd.DataFrame(tempData,columns=[\"SC\"])\n",
    "    tempDF2[\"labels\"]=i\n",
    "    #Agregandolo a un nuevo data frame\n",
    "    tempDF=tempDF.append(tempDF2)\n",
    "    \n",
    "tempDF.reset_index()\n",
    "\n",
    "(ggplot(tempDF)+aes(y=\"SC\",x=range(tempDF.shape[0]),color=\"factor(labels)\")\n",
    " +geom_col(show_legend=False)+coord_flip()+theme_bw()\n",
    " +labs(y=\"Coeficiente de Silhouette\")+theme(axis_text_y=element_blank(),axis_ticks_major_y=element_blank())\n",
    ")"
   ]
  },
  {
   "cell_type": "code",
   "execution_count": 13,
   "id": "4c64f752-4fbd-4225-bb79-0921a731fb52",
   "metadata": {},
   "outputs": [
    {
     "data": {
      "image/png": "[encoded data removed]",
      "text/plain": [
       "<Figure size 432x288 with 1 Axes>"
      ]
     },
     "metadata": {
      "needs_background": "light"
     },
     "output_type": "display_data"
    }
   ],
   "source": [
    "import matplotlib.pyplot as plt\n",
    "\n",
    "plt.scatter(x=df_train.iloc[:,0], y=df_train.iloc[:,1],s=0.01, c=km.labels_)\n",
    "plt.show()"
   ]
  },
  {
   "cell_type": "code",
   "execution_count": 15,
   "id": "38877498-2a65-4535-b539-4fcf8d0ab8bc",
   "metadata": {},
   "outputs": [],
   "source": [
    "df_train['cluster'] = km.labels_"
   ]
  },
  {
   "cell_type": "code",
   "execution_count": 18,
   "id": "d0b4263e-c788-40b7-bb5c-c464c8965d90",
   "metadata": {},
   "outputs": [],
   "source": [
    "df_train.to_csv('data_clusterRFM.csv')"
   ]
  },
  {
   "cell_type": "code",
   "execution_count": 17,
   "id": "5f4b611b-db70-44df-9a15-e59dc9d86c53",
   "metadata": {},
   "outputs": [
    {
     "data": {
      "text/plain": [
       "array([1, 1, 1, ..., 2, 2, 2])"
      ]
     },
     "execution_count": 17,
     "metadata": {},
     "output_type": "execute_result"
    }
   ],
   "source": [
    "km.labels_"
   ]
  },
  {
   "cell_type": "code",
   "execution_count": 19,
   "id": "62caa01e-6019-42fe-87c0-63df174690d7",
   "metadata": {},
   "outputs": [
    {
     "data": {
      "text/html": [
       "<div>\n",
       "<style scoped>\n",
       "    .dataframe tbody tr th:only-of-type {\n",
       "        vertical-align: middle;\n",
       "    }\n",
       "\n",
       "    .dataframe tbody tr th {\n",
       "        vertical-align: top;\n",
       "    }\n",
       "\n",
       "    .dataframe thead th {\n",
       "        text-align: right;\n",
       "    }\n",
       "</style>\n",
       "<table border=\"1\" class=\"dataframe\">\n",
       "  <thead>\n",
       "    <tr style=\"text-align: right;\">\n",
       "      <th></th>\n",
       "      <th>freq_rank_norm</th>\n",
       "      <th>mon_rank_norm</th>\n",
       "      <th>avg_rank_norm</th>\n",
       "      <th>cluster</th>\n",
       "    </tr>\n",
       "    <tr>\n",
       "      <th>usuario_id_crp</th>\n",
       "      <th></th>\n",
       "      <th></th>\n",
       "      <th></th>\n",
       "      <th></th>\n",
       "    </tr>\n",
       "  </thead>\n",
       "  <tbody>\n",
       "    <tr>\n",
       "      <th>11</th>\n",
       "      <td>98.888262</td>\n",
       "      <td>97.860598</td>\n",
       "      <td>49.745309</td>\n",
       "      <td>1</td>\n",
       "    </tr>\n",
       "    <tr>\n",
       "      <th>22</th>\n",
       "      <td>99.993076</td>\n",
       "      <td>99.994065</td>\n",
       "      <td>73.900873</td>\n",
       "      <td>1</td>\n",
       "    </tr>\n",
       "    <tr>\n",
       "      <th>31</th>\n",
       "      <td>96.511973</td>\n",
       "      <td>96.133646</td>\n",
       "      <td>64.398683</td>\n",
       "      <td>1</td>\n",
       "    </tr>\n",
       "    <tr>\n",
       "      <th>158</th>\n",
       "      <td>97.176642</td>\n",
       "      <td>96.869529</td>\n",
       "      <td>65.701315</td>\n",
       "      <td>1</td>\n",
       "    </tr>\n",
       "    <tr>\n",
       "      <th>183</th>\n",
       "      <td>99.947578</td>\n",
       "      <td>99.768553</td>\n",
       "      <td>42.226245</td>\n",
       "      <td>1</td>\n",
       "    </tr>\n",
       "    <tr>\n",
       "      <th>...</th>\n",
       "      <td>...</td>\n",
       "      <td>...</td>\n",
       "      <td>...</td>\n",
       "      <td>...</td>\n",
       "    </tr>\n",
       "    <tr>\n",
       "      <th>3195562</th>\n",
       "      <td>28.927925</td>\n",
       "      <td>36.575571</td>\n",
       "      <td>52.964304</td>\n",
       "      <td>2</td>\n",
       "    </tr>\n",
       "    <tr>\n",
       "      <th>3195577</th>\n",
       "      <td>28.927925</td>\n",
       "      <td>47.464467</td>\n",
       "      <td>69.490520</td>\n",
       "      <td>2</td>\n",
       "    </tr>\n",
       "    <tr>\n",
       "      <th>3195602</th>\n",
       "      <td>28.927925</td>\n",
       "      <td>47.464467</td>\n",
       "      <td>69.490520</td>\n",
       "      <td>2</td>\n",
       "    </tr>\n",
       "    <tr>\n",
       "      <th>3195691</th>\n",
       "      <td>28.927925</td>\n",
       "      <td>49.201310</td>\n",
       "      <td>71.801035</td>\n",
       "      <td>2</td>\n",
       "    </tr>\n",
       "    <tr>\n",
       "      <th>3195765</th>\n",
       "      <td>28.927925</td>\n",
       "      <td>45.447217</td>\n",
       "      <td>66.689910</td>\n",
       "      <td>2</td>\n",
       "    </tr>\n",
       "  </tbody>\n",
       "</table>\n",
       "<p>101103 rows × 4 columns</p>\n",
       "</div>"
      ],
      "text/plain": [
       "                freq_rank_norm  mon_rank_norm  avg_rank_norm  cluster\n",
       "usuario_id_crp                                                       \n",
       "11                   98.888262      97.860598      49.745309        1\n",
       "22                   99.993076      99.994065      73.900873        1\n",
       "31                   96.511973      96.133646      64.398683        1\n",
       "158                  97.176642      96.869529      65.701315        1\n",
       "183                  99.947578      99.768553      42.226245        1\n",
       "...                        ...            ...            ...      ...\n",
       "3195562              28.927925      36.575571      52.964304        2\n",
       "3195577              28.927925      47.464467      69.490520        2\n",
       "3195602              28.927925      47.464467      69.490520        2\n",
       "3195691              28.927925      49.201310      71.801035        2\n",
       "3195765              28.927925      45.447217      66.689910        2\n",
       "\n",
       "[101103 rows x 4 columns]"
      ]
     },
     "execution_count": 19,
     "metadata": {},
     "output_type": "execute_result"
    }
   ],
   "source": [
    "df_train"
   ]
  },
  {
   "cell_type": "code",
   "execution_count": 21,
   "id": "0dd4ddd4-31ee-4974-9ce1-cfd3a8a69b8c",
   "metadata": {},
   "outputs": [],
   "source": [
    "# Filtrate DataFrame\n",
    "df_train = df[(df['year_month'] >= start_train.strftime('%Y-%m-%d')) & (df['year_month'] <= end_train.strftime('%Y-%m-%d'))]\n",
    "df_test = df[df['year_month'] == test.strftime('%Y-%m-%d')]\n",
    "\n",
    "# Grouping Data\n",
    "df_train = df_train.groupby('usuario_id_crp').sum()\n",
    "df_test = df_test.groupby('usuario_id_crp').sum()\n",
    "\n",
    "#     \n",
    "df_train['avg_tk'] = df_train['mon_all_1'] / df_train['freq_all_1']\n",
    "df_test['avg_tkv'] = df_test['mon_all_1'] / df_test['freq_all_1']\n"
   ]
  },
  {
   "cell_type": "code",
   "execution_count": 22,
   "id": "b87d0f6f-bba0-467c-87c4-82c35086ba60",
   "metadata": {},
   "outputs": [],
   "source": [
    "df_train['cluster'] = km.labels_"
   ]
  },
  {
   "cell_type": "code",
   "execution_count": 24,
   "id": "9feb329f-4cf2-42aa-a2a6-f8d98df866ff",
   "metadata": {},
   "outputs": [],
   "source": [
    "df_train.to_csv('data_clusterRFM.csv')"
   ]
  },
  {
   "cell_type": "code",
   "execution_count": null,
   "id": "59c4ce5f-6e61-40f7-985b-bdca77a3a0d4",
   "metadata": {},
   "outputs": [],
   "source": []
  }
 ],
 "metadata": {
  "kernelspec": {
   "display_name": "Python 3 (ipykernel)",
   "language": "python",
   "name": "python3"
  },
  "language_info": {
   "codemirror_mode": {
    "name": "ipython",
    "version": 3
   },
   "file_extension": ".py",
   "mimetype": "text/x-python",
   "name": "python",
   "nbconvert_exporter": "python",
   "pygments_lexer": "ipython3",
   "version": "3.10.6"
  }
 },
 "nbformat": 4,
 "nbformat_minor": 5
}
