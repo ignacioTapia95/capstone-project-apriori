{
 "cells": [
  {
   "cell_type": "code",
   "execution_count": 26,
   "id": "5670f052-b2f0-419e-acd5-ceec221f2baf",
   "metadata": {},
   "outputs": [],
   "source": [
    "import requests\n",
    "import json\n",
    "import pandas as pd\n",
    "from datetime import datetime\n",
    "from tqdm import tqdm"
   ]
  },
  {
   "cell_type": "code",
   "execution_count": 24,
   "id": "20da39a5-091c-4748-9c0e-ba0ea485bbf2",
   "metadata": {},
   "outputs": [
    {
     "name": "stdout",
     "output_type": "stream",
     "text": [
      "0:00:00.000077\n"
     ]
    }
   ],
   "source": [
    "t1 = datetime.now()\n",
    "t2 = datetime.now()"
   ]
  },
  {
   "cell_type": "code",
   "execution_count": 17,
   "id": "fe844718-849c-430c-be10-17f9eaad90ee",
   "metadata": {},
   "outputs": [],
   "source": [
    "rules = pd.read_json('rules.json').sample(1000,random_state=20221106).reset_index(drop=True)"
   ]
  },
  {
   "cell_type": "code",
   "execution_count": null,
   "id": "98915dda-4f29-43c8-b055-9270dcc4d7ac",
   "metadata": {},
   "outputs": [],
   "source": []
  },
  {
   "cell_type": "code",
   "execution_count": 18,
   "id": "3a4076e7-2a42-4f30-b2cf-e8716cbbcf4b",
   "metadata": {},
   "outputs": [
    {
     "data": {
      "text/html": [
       "<div>\n",
       "<style scoped>\n",
       "    .dataframe tbody tr th:only-of-type {\n",
       "        vertical-align: middle;\n",
       "    }\n",
       "\n",
       "    .dataframe tbody tr th {\n",
       "        vertical-align: top;\n",
       "    }\n",
       "\n",
       "    .dataframe thead th {\n",
       "        text-align: right;\n",
       "    }\n",
       "</style>\n",
       "<table border=\"1\" class=\"dataframe\">\n",
       "  <thead>\n",
       "    <tr style=\"text-align: right;\">\n",
       "      <th></th>\n",
       "      <th>antecedents</th>\n",
       "      <th>consequents</th>\n",
       "      <th>antecedent support</th>\n",
       "      <th>consequent support</th>\n",
       "      <th>support</th>\n",
       "      <th>confidence</th>\n",
       "      <th>lift</th>\n",
       "      <th>leverage</th>\n",
       "      <th>conviction</th>\n",
       "    </tr>\n",
       "  </thead>\n",
       "  <tbody>\n",
       "    <tr>\n",
       "      <th>944</th>\n",
       "      <td>[gaseosa, postre_individual, helado]</td>\n",
       "      <td>[map]</td>\n",
       "      <td>0.002736</td>\n",
       "      <td>0.359848</td>\n",
       "      <td>0.002531</td>\n",
       "      <td>0.925234</td>\n",
       "      <td>2.571181</td>\n",
       "      <td>0.001547</td>\n",
       "      <td>8.562036</td>\n",
       "    </tr>\n",
       "    <tr>\n",
       "      <th>522</th>\n",
       "      <td>[gaseosa, barquillo, postre_individual]</td>\n",
       "      <td>[map]</td>\n",
       "      <td>0.000928</td>\n",
       "      <td>0.359848</td>\n",
       "      <td>0.000800</td>\n",
       "      <td>0.862205</td>\n",
       "      <td>2.396026</td>\n",
       "      <td>0.000466</td>\n",
       "      <td>4.645676</td>\n",
       "    </tr>\n",
       "    <tr>\n",
       "      <th>576</th>\n",
       "      <td>[agua, postre_individual]</td>\n",
       "      <td>[map]</td>\n",
       "      <td>0.004197</td>\n",
       "      <td>0.359848</td>\n",
       "      <td>0.003601</td>\n",
       "      <td>0.858138</td>\n",
       "      <td>2.384724</td>\n",
       "      <td>0.002091</td>\n",
       "      <td>4.512484</td>\n",
       "    </tr>\n",
       "    <tr>\n",
       "      <th>638</th>\n",
       "      <td>[queso_laminado, mantequilla, bolleria]</td>\n",
       "      <td>[panaderia]</td>\n",
       "      <td>0.000858</td>\n",
       "      <td>0.368446</td>\n",
       "      <td>0.000683</td>\n",
       "      <td>0.795745</td>\n",
       "      <td>2.159734</td>\n",
       "      <td>0.000367</td>\n",
       "      <td>3.091985</td>\n",
       "    </tr>\n",
       "    <tr>\n",
       "      <th>908</th>\n",
       "      <td>[queso_laminado, bolleria, jamon]</td>\n",
       "      <td>[panaderia]</td>\n",
       "      <td>0.003685</td>\n",
       "      <td>0.368446</td>\n",
       "      <td>0.002864</td>\n",
       "      <td>0.777007</td>\n",
       "      <td>2.108878</td>\n",
       "      <td>0.001506</td>\n",
       "      <td>2.832170</td>\n",
       "    </tr>\n",
       "    <tr>\n",
       "      <th>...</th>\n",
       "      <td>...</td>\n",
       "      <td>...</td>\n",
       "      <td>...</td>\n",
       "      <td>...</td>\n",
       "      <td>...</td>\n",
       "      <td>...</td>\n",
       "      <td>...</td>\n",
       "      <td>...</td>\n",
       "      <td>...</td>\n",
       "    </tr>\n",
       "    <tr>\n",
       "      <th>571</th>\n",
       "      <td>[map]</td>\n",
       "      <td>[plato_liviano, jamon]</td>\n",
       "      <td>0.359848</td>\n",
       "      <td>0.001366</td>\n",
       "      <td>0.000511</td>\n",
       "      <td>0.001421</td>\n",
       "      <td>1.040250</td>\n",
       "      <td>0.000020</td>\n",
       "      <td>1.000055</td>\n",
       "    </tr>\n",
       "    <tr>\n",
       "      <th>407</th>\n",
       "      <td>[map]</td>\n",
       "      <td>[empanada_individual, postre_individual, sopas]</td>\n",
       "      <td>0.359848</td>\n",
       "      <td>0.001023</td>\n",
       "      <td>0.000508</td>\n",
       "      <td>0.001411</td>\n",
       "      <td>1.379552</td>\n",
       "      <td>0.000140</td>\n",
       "      <td>1.000389</td>\n",
       "    </tr>\n",
       "    <tr>\n",
       "      <th>619</th>\n",
       "      <td>[panaderia]</td>\n",
       "      <td>[queso_laminado, jamon, map]</td>\n",
       "      <td>0.368446</td>\n",
       "      <td>0.000902</td>\n",
       "      <td>0.000511</td>\n",
       "      <td>0.001388</td>\n",
       "      <td>1.538359</td>\n",
       "      <td>0.000179</td>\n",
       "      <td>1.000486</td>\n",
       "    </tr>\n",
       "    <tr>\n",
       "      <th>170</th>\n",
       "      <td>[panaderia]</td>\n",
       "      <td>[charcuteria, salame]</td>\n",
       "      <td>0.368446</td>\n",
       "      <td>0.001183</td>\n",
       "      <td>0.000508</td>\n",
       "      <td>0.001378</td>\n",
       "      <td>1.164384</td>\n",
       "      <td>0.000072</td>\n",
       "      <td>1.000195</td>\n",
       "    </tr>\n",
       "    <tr>\n",
       "      <th>984</th>\n",
       "      <td>[panaderia]</td>\n",
       "      <td>[barra_de_cereal, postre_individual]</td>\n",
       "      <td>0.368446</td>\n",
       "      <td>0.001132</td>\n",
       "      <td>0.000504</td>\n",
       "      <td>0.001368</td>\n",
       "      <td>1.208214</td>\n",
       "      <td>0.000087</td>\n",
       "      <td>1.000236</td>\n",
       "    </tr>\n",
       "  </tbody>\n",
       "</table>\n",
       "<p>1000 rows × 9 columns</p>\n",
       "</div>"
      ],
      "text/plain": [
       "                                 antecedents  \\\n",
       "944     [gaseosa, postre_individual, helado]   \n",
       "522  [gaseosa, barquillo, postre_individual]   \n",
       "576                [agua, postre_individual]   \n",
       "638  [queso_laminado, mantequilla, bolleria]   \n",
       "908        [queso_laminado, bolleria, jamon]   \n",
       "..                                       ...   \n",
       "571                                    [map]   \n",
       "407                                    [map]   \n",
       "619                              [panaderia]   \n",
       "170                              [panaderia]   \n",
       "984                              [panaderia]   \n",
       "\n",
       "                                         consequents  antecedent support  \\\n",
       "944                                            [map]            0.002736   \n",
       "522                                            [map]            0.000928   \n",
       "576                                            [map]            0.004197   \n",
       "638                                      [panaderia]            0.000858   \n",
       "908                                      [panaderia]            0.003685   \n",
       "..                                               ...                 ...   \n",
       "571                           [plato_liviano, jamon]            0.359848   \n",
       "407  [empanada_individual, postre_individual, sopas]            0.359848   \n",
       "619                     [queso_laminado, jamon, map]            0.368446   \n",
       "170                            [charcuteria, salame]            0.368446   \n",
       "984             [barra_de_cereal, postre_individual]            0.368446   \n",
       "\n",
       "     consequent support   support  confidence      lift  leverage  conviction  \n",
       "944            0.359848  0.002531    0.925234  2.571181  0.001547    8.562036  \n",
       "522            0.359848  0.000800    0.862205  2.396026  0.000466    4.645676  \n",
       "576            0.359848  0.003601    0.858138  2.384724  0.002091    4.512484  \n",
       "638            0.368446  0.000683    0.795745  2.159734  0.000367    3.091985  \n",
       "908            0.368446  0.002864    0.777007  2.108878  0.001506    2.832170  \n",
       "..                  ...       ...         ...       ...       ...         ...  \n",
       "571            0.001366  0.000511    0.001421  1.040250  0.000020    1.000055  \n",
       "407            0.001023  0.000508    0.001411  1.379552  0.000140    1.000389  \n",
       "619            0.000902  0.000511    0.001388  1.538359  0.000179    1.000486  \n",
       "170            0.001183  0.000508    0.001378  1.164384  0.000072    1.000195  \n",
       "984            0.001132  0.000504    0.001368  1.208214  0.000087    1.000236  \n",
       "\n",
       "[1000 rows x 9 columns]"
      ]
     },
     "execution_count": 18,
     "metadata": {},
     "output_type": "execute_result"
    }
   ],
   "source": [
    "rules.sort_values('confidence', ascending=False)"
   ]
  },
  {
   "cell_type": "code",
   "execution_count": 28,
   "id": "685fcd5c-a799-4cb4-9912-c787a3a995e6",
   "metadata": {},
   "outputs": [
    {
     "name": "stderr",
     "output_type": "stream",
     "text": [
      "1000it [08:29,  1.96it/s]\n"
     ]
    }
   ],
   "source": [
    "times = []\n",
    "for row,column in tqdm(rules.iterrows()):\n",
    "    \n",
    "    basket = column['antecedents']\n",
    "    basket_string = ','.join(basket)\n",
    "    \n",
    "    url_api_rquest = f'https://us-central1-mds-recsys.cloudfunctions.net/forkrecsys2?basket={basket_string}'\n",
    "    \n",
    "    t1 = datetime.now()\n",
    "    r = requests.post(url_api_rquest)\n",
    "    t2 = datetime.now()\n",
    "    \n",
    "    dict_storage = {'basket': basket, 'api_response': r.json(), 'time_response':t2-t1}\n",
    "    times.append(dict_storage)"
   ]
  },
  {
   "cell_type": "code",
   "execution_count": 11,
   "id": "250acd34-c013-4562-a516-40accc2dcf2d",
   "metadata": {},
   "outputs": [
    {
     "data": {
      "text/plain": [
       "{'rec_0': 'map', 'rec_1': 'jugo', 'rec_2': 'panaderia'}"
      ]
     },
     "execution_count": 11,
     "metadata": {},
     "output_type": "execute_result"
    }
   ],
   "source": [
    "r = requests.post(f'https://us-central1-mds-recsys.cloudfunctions.net/forkrecsys2?basket=gaseosa,postre_individual,helado')\n",
    "r.json()"
   ]
  },
  {
   "cell_type": "code",
   "execution_count": 35,
   "id": "44f409c4-270d-498b-bdbd-3023c2248692",
   "metadata": {},
   "outputs": [],
   "source": [
    "df_times = pd.DataFrame(times)\n",
    "df_times['total_seconds'] = df_times['time_response'].apply(lambda x: x.total_seconds())"
   ]
  },
  {
   "cell_type": "code",
   "execution_count": 43,
   "id": "2dc1e5fe-16e7-4df9-92ee-4826cfcbafa5",
   "metadata": {},
   "outputs": [],
   "source": [
    "df_times.to_csv('resultados/tiempo_consulta_api.csv')\n",
    "#df_times = pd.read_json('resultados/tiempo_consulta_api.json')"
   ]
  },
  {
   "cell_type": "code",
   "execution_count": 42,
   "id": "5f4d4213-acf1-4abc-b216-eb63b0a63092",
   "metadata": {},
   "outputs": [
    {
     "data": {
      "text/html": [
       "<div>\n",
       "<style scoped>\n",
       "    .dataframe tbody tr th:only-of-type {\n",
       "        vertical-align: middle;\n",
       "    }\n",
       "\n",
       "    .dataframe tbody tr th {\n",
       "        vertical-align: top;\n",
       "    }\n",
       "\n",
       "    .dataframe thead th {\n",
       "        text-align: right;\n",
       "    }\n",
       "</style>\n",
       "<table border=\"1\" class=\"dataframe\">\n",
       "  <thead>\n",
       "    <tr style=\"text-align: right;\">\n",
       "      <th></th>\n",
       "      <th>total_seconds</th>\n",
       "    </tr>\n",
       "  </thead>\n",
       "  <tbody>\n",
       "    <tr>\n",
       "      <th>count</th>\n",
       "      <td>1000.000000</td>\n",
       "    </tr>\n",
       "    <tr>\n",
       "      <th>mean</th>\n",
       "      <td>0.507053</td>\n",
       "    </tr>\n",
       "    <tr>\n",
       "      <th>std</th>\n",
       "      <td>0.100637</td>\n",
       "    </tr>\n",
       "    <tr>\n",
       "      <th>min</th>\n",
       "      <td>0.342358</td>\n",
       "    </tr>\n",
       "    <tr>\n",
       "      <th>25%</th>\n",
       "      <td>0.410037</td>\n",
       "    </tr>\n",
       "    <tr>\n",
       "      <th>50%</th>\n",
       "      <td>0.508622</td>\n",
       "    </tr>\n",
       "    <tr>\n",
       "      <th>75%</th>\n",
       "      <td>0.514407</td>\n",
       "    </tr>\n",
       "    <tr>\n",
       "      <th>max</th>\n",
       "      <td>0.923693</td>\n",
       "    </tr>\n",
       "  </tbody>\n",
       "</table>\n",
       "</div>"
      ],
      "text/plain": [
       "       total_seconds\n",
       "count    1000.000000\n",
       "mean        0.507053\n",
       "std         0.100637\n",
       "min         0.342358\n",
       "25%         0.410037\n",
       "50%         0.508622\n",
       "75%         0.514407\n",
       "max         0.923693"
      ]
     },
     "execution_count": 42,
     "metadata": {},
     "output_type": "execute_result"
    }
   ],
   "source": [
    "df_times[['total_seconds']].describe()"
   ]
  },
  {
   "cell_type": "code",
   "execution_count": 41,
   "id": "e0c7c279-cf67-45cf-9a81-466665bd1e11",
   "metadata": {},
   "outputs": [
    {
     "data": {
      "text/plain": [
       "0.6163606"
      ]
     },
     "execution_count": 41,
     "metadata": {},
     "output_type": "execute_result"
    }
   ],
   "source": [
    "import numpy as np\n",
    "np.percentile(df_times.total_seconds, 90)"
   ]
  },
  {
   "cell_type": "code",
   "execution_count": null,
   "id": "a9c52450-c5ea-405d-9b38-68e114306da4",
   "metadata": {},
   "outputs": [],
   "source": []
  }
 ],
 "metadata": {
  "kernelspec": {
   "display_name": "Python 3 (ipykernel)",
   "language": "python",
   "name": "python3"
  },
  "language_info": {
   "codemirror_mode": {
    "name": "ipython",
    "version": 3
   },
   "file_extension": ".py",
   "mimetype": "text/x-python",
   "name": "python",
   "nbconvert_exporter": "python",
   "pygments_lexer": "ipython3",
   "version": "3.10.6"
  }
 },
 "nbformat": 4,
 "nbformat_minor": 5
}
